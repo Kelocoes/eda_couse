{
  "cells": [
    {
      "cell_type": "markdown",
      "metadata": {
        "colab_type": "text",
        "id": "view-in-github"
      },
      "source": [
        "<a href=\"https://colab.research.google.com/github/armandoordonez/eda_couse/blob/main/Clustering_imputation.ipynb\" target=\"_parent\"><img src=\"https://colab.research.google.com/assets/colab-badge.svg\" alt=\"Open In Colab\"/></a>"
      ]
    },
    {
      "cell_type": "code",
      "execution_count": 1,
      "metadata": {
        "colab": {
          "base_uri": "https://localhost:8080/"
        },
        "id": "lFUZztVLxRPT",
        "outputId": "5f675969-a3e1-45bd-df56-c68b40c1ef5d"
      },
      "outputs": [
        {
          "data": {
            "text/plain": [
              "(300, 28)"
            ]
          },
          "execution_count": 1,
          "metadata": {},
          "output_type": "execute_result"
        }
      ],
      "source": [
        "# Based on: https://machinelearningmastery.com/knn-imputation-for-missing-values-in-machine-learning/\n",
        "\n",
        "\n",
        "\n",
        "from numpy import isnan\n",
        "from pandas import read_csv\n",
        "from sklearn.impute import KNNImputer\n",
        "\n",
        "# load dataset\n",
        "url = 'https://raw.githubusercontent.com/armandoordonez/eda_couse/main/data/master_horse-colic.csv'\n",
        "dataframe = read_csv(url, header=None, na_values='?')\n",
        "\n",
        "# split into input and output elements\n",
        "data = dataframe.values\n",
        "data.shape"
      ]
    },
    {
      "cell_type": "markdown",
      "metadata": {
        "id": "f4RLemoycpBL"
      },
      "source": [
        "\n",
        "**Sobre el dataset**\n",
        "\n",
        "El dataset sobre cólicos de caballos describe las características médicas de los caballos con cólicos y si vivieron o murieron.\n",
        "\n",
        "Hay 300 filas y 26 variables de entrada con una variable de salida. Es una tarea de predicción de clasificación binaria que implica predecir 1 si el caballo vivió y 2 si el caballo murió.\n",
        "\n",
        "Hay muchos campos que podríamos seleccionar para predecir en este conjunto de datos. En este caso predeciremos si el problema fue quirúrgico o no (índice de columna 23), convirtiéndolo en un problema de clasificación binaria.\n",
        "\n",
        "El conjunto de datos tiene muchos valores faltantes para muchas de las columnas donde cada valor faltante está marcado con un signo de interrogación (“?”)"
      ]
    },
    {
      "cell_type": "code",
      "execution_count": 2,
      "metadata": {
        "colab": {
          "base_uri": "https://localhost:8080/",
          "height": 236
        },
        "id": "pnVb2CWEcWgj",
        "outputId": "359b74ec-f7f4-4f3d-b0c7-5ef88fa25fe2"
      },
      "outputs": [
        {
          "data": {
            "text/html": [
              "<div>\n",
              "<style scoped>\n",
              "    .dataframe tbody tr th:only-of-type {\n",
              "        vertical-align: middle;\n",
              "    }\n",
              "\n",
              "    .dataframe tbody tr th {\n",
              "        vertical-align: top;\n",
              "    }\n",
              "\n",
              "    .dataframe thead th {\n",
              "        text-align: right;\n",
              "    }\n",
              "</style>\n",
              "<table border=\"1\" class=\"dataframe\">\n",
              "  <thead>\n",
              "    <tr style=\"text-align: right;\">\n",
              "      <th></th>\n",
              "      <th>0</th>\n",
              "      <th>1</th>\n",
              "      <th>2</th>\n",
              "      <th>3</th>\n",
              "      <th>4</th>\n",
              "      <th>5</th>\n",
              "      <th>6</th>\n",
              "      <th>7</th>\n",
              "      <th>8</th>\n",
              "      <th>9</th>\n",
              "      <th>...</th>\n",
              "      <th>18</th>\n",
              "      <th>19</th>\n",
              "      <th>20</th>\n",
              "      <th>21</th>\n",
              "      <th>22</th>\n",
              "      <th>23</th>\n",
              "      <th>24</th>\n",
              "      <th>25</th>\n",
              "      <th>26</th>\n",
              "      <th>27</th>\n",
              "    </tr>\n",
              "  </thead>\n",
              "  <tbody>\n",
              "    <tr>\n",
              "      <th>0</th>\n",
              "      <td>2.0</td>\n",
              "      <td>1</td>\n",
              "      <td>530101</td>\n",
              "      <td>38.5</td>\n",
              "      <td>66.0</td>\n",
              "      <td>28.0</td>\n",
              "      <td>3.0</td>\n",
              "      <td>3.0</td>\n",
              "      <td>NaN</td>\n",
              "      <td>2.0</td>\n",
              "      <td>...</td>\n",
              "      <td>45.0</td>\n",
              "      <td>8.4</td>\n",
              "      <td>NaN</td>\n",
              "      <td>NaN</td>\n",
              "      <td>2.0</td>\n",
              "      <td>2</td>\n",
              "      <td>11300</td>\n",
              "      <td>0</td>\n",
              "      <td>0</td>\n",
              "      <td>2</td>\n",
              "    </tr>\n",
              "    <tr>\n",
              "      <th>1</th>\n",
              "      <td>1.0</td>\n",
              "      <td>1</td>\n",
              "      <td>534817</td>\n",
              "      <td>39.2</td>\n",
              "      <td>88.0</td>\n",
              "      <td>20.0</td>\n",
              "      <td>NaN</td>\n",
              "      <td>NaN</td>\n",
              "      <td>4.0</td>\n",
              "      <td>1.0</td>\n",
              "      <td>...</td>\n",
              "      <td>50.0</td>\n",
              "      <td>85.0</td>\n",
              "      <td>2.0</td>\n",
              "      <td>2.0</td>\n",
              "      <td>3.0</td>\n",
              "      <td>2</td>\n",
              "      <td>2208</td>\n",
              "      <td>0</td>\n",
              "      <td>0</td>\n",
              "      <td>2</td>\n",
              "    </tr>\n",
              "    <tr>\n",
              "      <th>2</th>\n",
              "      <td>2.0</td>\n",
              "      <td>1</td>\n",
              "      <td>530334</td>\n",
              "      <td>38.3</td>\n",
              "      <td>40.0</td>\n",
              "      <td>24.0</td>\n",
              "      <td>1.0</td>\n",
              "      <td>1.0</td>\n",
              "      <td>3.0</td>\n",
              "      <td>1.0</td>\n",
              "      <td>...</td>\n",
              "      <td>33.0</td>\n",
              "      <td>6.7</td>\n",
              "      <td>NaN</td>\n",
              "      <td>NaN</td>\n",
              "      <td>1.0</td>\n",
              "      <td>2</td>\n",
              "      <td>0</td>\n",
              "      <td>0</td>\n",
              "      <td>0</td>\n",
              "      <td>1</td>\n",
              "    </tr>\n",
              "    <tr>\n",
              "      <th>3</th>\n",
              "      <td>1.0</td>\n",
              "      <td>9</td>\n",
              "      <td>5290409</td>\n",
              "      <td>39.1</td>\n",
              "      <td>164.0</td>\n",
              "      <td>84.0</td>\n",
              "      <td>4.0</td>\n",
              "      <td>1.0</td>\n",
              "      <td>6.0</td>\n",
              "      <td>2.0</td>\n",
              "      <td>...</td>\n",
              "      <td>48.0</td>\n",
              "      <td>7.2</td>\n",
              "      <td>3.0</td>\n",
              "      <td>5.3</td>\n",
              "      <td>2.0</td>\n",
              "      <td>1</td>\n",
              "      <td>2208</td>\n",
              "      <td>0</td>\n",
              "      <td>0</td>\n",
              "      <td>1</td>\n",
              "    </tr>\n",
              "    <tr>\n",
              "      <th>4</th>\n",
              "      <td>2.0</td>\n",
              "      <td>1</td>\n",
              "      <td>530255</td>\n",
              "      <td>37.3</td>\n",
              "      <td>104.0</td>\n",
              "      <td>35.0</td>\n",
              "      <td>NaN</td>\n",
              "      <td>NaN</td>\n",
              "      <td>6.0</td>\n",
              "      <td>2.0</td>\n",
              "      <td>...</td>\n",
              "      <td>74.0</td>\n",
              "      <td>7.4</td>\n",
              "      <td>NaN</td>\n",
              "      <td>NaN</td>\n",
              "      <td>2.0</td>\n",
              "      <td>2</td>\n",
              "      <td>4300</td>\n",
              "      <td>0</td>\n",
              "      <td>0</td>\n",
              "      <td>2</td>\n",
              "    </tr>\n",
              "  </tbody>\n",
              "</table>\n",
              "<p>5 rows × 28 columns</p>\n",
              "</div>"
            ],
            "text/plain": [
              "    0   1        2     3      4     5    6    7    8    9   ...    18    19  \\\n",
              "0  2.0   1   530101  38.5   66.0  28.0  3.0  3.0  NaN  2.0  ...  45.0   8.4   \n",
              "1  1.0   1   534817  39.2   88.0  20.0  NaN  NaN  4.0  1.0  ...  50.0  85.0   \n",
              "2  2.0   1   530334  38.3   40.0  24.0  1.0  1.0  3.0  1.0  ...  33.0   6.7   \n",
              "3  1.0   9  5290409  39.1  164.0  84.0  4.0  1.0  6.0  2.0  ...  48.0   7.2   \n",
              "4  2.0   1   530255  37.3  104.0  35.0  NaN  NaN  6.0  2.0  ...  74.0   7.4   \n",
              "\n",
              "    20   21   22  23     24  25  26  27  \n",
              "0  NaN  NaN  2.0   2  11300   0   0   2  \n",
              "1  2.0  2.0  3.0   2   2208   0   0   2  \n",
              "2  NaN  NaN  1.0   2      0   0   0   1  \n",
              "3  3.0  5.3  2.0   1   2208   0   0   1  \n",
              "4  NaN  NaN  2.0   2   4300   0   0   2  \n",
              "\n",
              "[5 rows x 28 columns]"
            ]
          },
          "execution_count": 2,
          "metadata": {},
          "output_type": "execute_result"
        }
      ],
      "source": [
        "dataframe.head()"
      ]
    },
    {
      "cell_type": "code",
      "execution_count": 3,
      "metadata": {
        "colab": {
          "base_uri": "https://localhost:8080/"
        },
        "id": "zipqV1rqcOe5",
        "outputId": "fc39b688-efc4-4c21-8d56-c978fddf0396"
      },
      "outputs": [
        {
          "data": {
            "text/plain": [
              "(300, 27)"
            ]
          },
          "execution_count": 3,
          "metadata": {},
          "output_type": "execute_result"
        }
      ],
      "source": [
        "# La fila 23 es el target\n",
        "ix = [i for i in range(data.shape[1]) if i != 23]\n",
        "X, y = data[:, ix], data[:, 23]\n",
        "X.shape"
      ]
    },
    {
      "cell_type": "code",
      "execution_count": 4,
      "metadata": {
        "colab": {
          "base_uri": "https://localhost:8080/"
        },
        "id": "egY0xMeNcKlK",
        "outputId": "f7f1659c-8bc3-43b6-a167-c9991359f06c"
      },
      "outputs": [
        {
          "name": "stdout",
          "output_type": "stream",
          "text": [
            "Missing: 1605\n",
            "Missing: 0\n"
          ]
        }
      ],
      "source": [
        "# print total missing\n",
        "print('Missing: %d' % sum(isnan(X).flatten()))\n",
        "# define imputer\n",
        "imputer = KNNImputer()\n",
        "# fit on the dataset\n",
        "imputer.fit(X)\n",
        "# transform the dataset\n",
        "Xtrans = imputer.transform(X)\n",
        "# print total missing\n",
        "print('Missing: %d' % sum(isnan(Xtrans).flatten()))"
      ]
    },
    {
      "cell_type": "code",
      "execution_count": 5,
      "metadata": {
        "colab": {
          "base_uri": "https://localhost:8080/"
        },
        "id": "SCOMFcRYWFdc",
        "outputId": "ae182d10-8d9f-470d-fde3-a2e7eda94e1d"
      },
      "outputs": [
        {
          "name": "stdout",
          "output_type": "stream",
          "text": [
            "Mean Accuracy: 0.860 (0.059)\n"
          ]
        }
      ],
      "source": [
        "# evaluate knn imputation and random forest for the horse colic dataset\n",
        "\n",
        "from numpy import mean\n",
        "from numpy import std\n",
        "from pandas import read_csv\n",
        "from sklearn.ensemble import RandomForestClassifier\n",
        "from sklearn.impute import KNNImputer\n",
        "from sklearn.model_selection import cross_val_score\n",
        "from sklearn.model_selection import RepeatedStratifiedKFold\n",
        "from sklearn.pipeline import Pipeline\n",
        "\n",
        "# load dataset\n",
        "url = 'https://raw.githubusercontent.com/jbrownlee/Datasets/master/horse-colic.csv'\n",
        "dataframe = read_csv(url, header=None, na_values='?')\n",
        "\n",
        "# split into input and output elements\n",
        "data = dataframe.values\n",
        "ix = [i for i in range(data.shape[1]) if i != 23]\n",
        "X, y = data[:, ix], data[:, 23]\n",
        "\n",
        "# define modeling pipeline\n",
        "model = RandomForestClassifier()\n",
        "imputer = KNNImputer()\n",
        "pipeline = Pipeline(steps=[('i', imputer), ('m', model)])\n",
        "\n",
        "# define model evaluation\n",
        "cv = RepeatedStratifiedKFold(n_splits=10, n_repeats=3, random_state=1)\n",
        "\n",
        "\n",
        "# evaluate model\n",
        "scores = cross_val_score(pipeline, X, y, scoring='accuracy', cv=cv, n_jobs=-1, error_score='raise')\n",
        "print('Mean Accuracy: %.3f (%.3f)' % (mean(scores), std(scores)))"
      ]
    },
    {
      "cell_type": "code",
      "execution_count": 6,
      "metadata": {
        "colab": {
          "base_uri": "https://localhost:8080/",
          "height": 569
        },
        "id": "cuiGelxgWFgH",
        "outputId": "b35a6a76-b4a3-4920-8798-5cd704c44a3a"
      },
      "outputs": [
        {
          "name": "stdout",
          "output_type": "stream",
          "text": [
            ">1 0.859 (0.058)\n",
            ">3 0.862 (0.052)\n",
            ">5 0.868 (0.060)\n",
            ">7 0.861 (0.054)\n",
            ">9 0.863 (0.055)\n",
            ">15 0.864 (0.047)\n",
            ">18 0.864 (0.045)\n",
            ">21 0.869 (0.053)\n"
          ]
        },
        {
          "data": {
            "image/png": "[encoded data removed]",
            "text/plain": [
              "<Figure size 640x480 with 1 Axes>"
            ]
          },
          "metadata": {},
          "output_type": "display_data"
        }
      ],
      "source": [
        "\n",
        "# compare knn imputation strategies for the horse colic dataset\n",
        "from numpy import mean\n",
        "from numpy import std\n",
        "from pandas import read_csv\n",
        "from sklearn.ensemble import RandomForestClassifier\n",
        "from sklearn.impute import KNNImputer\n",
        "from sklearn.model_selection import cross_val_score\n",
        "from sklearn.model_selection import RepeatedStratifiedKFold\n",
        "from sklearn.pipeline import Pipeline\n",
        "from matplotlib import pyplot\n",
        "\n",
        "# load dataset\n",
        "url = 'https://raw.githubusercontent.com/jbrownlee/Datasets/master/horse-colic.csv'\n",
        "dataframe = read_csv(url, header=None, na_values='?')\n",
        "\n",
        "# split into input and output elements\n",
        "data = dataframe.values\n",
        "ix = [i for i in range(data.shape[1]) if i != 23]\n",
        "X, y = data[:, ix], data[:, 23]\n",
        "\n",
        "# evaluate each strategy on the dataset\n",
        "results = list()\n",
        "strategies = [str(i) for i in [1,3,5,7,9,15,18,21]]\n",
        "for s in strategies:\n",
        "\n",
        "# create the modeling pipeline\n",
        " pipeline = Pipeline(steps=[('i', KNNImputer(n_neighbors=int(s))), ('m', RandomForestClassifier())])\n",
        "\n",
        "# evaluate the model\n",
        " cv = RepeatedStratifiedKFold(n_splits=10, n_repeats=3, random_state=1)\n",
        " scores = cross_val_score(pipeline, X, y, scoring='accuracy', cv=cv, n_jobs=-1)\n",
        "\n",
        "# store results\n",
        " results.append(scores)\n",
        " print('>%s %.3f (%.3f)' % (s, mean(scores), std(scores)))\n",
        "\n",
        "# plot model performance for comparison\n",
        "pyplot.boxplot(results, labels=strategies, showmeans=True)\n",
        "pyplot.show()"
      ]
    }
  ],
  "metadata": {
    "colab": {
      "authorship_tag": "ABX9TyPGBGT/k/HYxzxt/eUGSliR",
      "include_colab_link": true,
      "provenance": []
    },
    "kernelspec": {
      "display_name": "Python 3",
      "name": "python3"
    },
    "language_info": {
      "codemirror_mode": {
        "name": "ipython",
        "version": 3
      },
      "file_extension": ".py",
      "mimetype": "text/x-python",
      "name": "python",
      "nbconvert_exporter": "python",
      "pygments_lexer": "ipython3",
      "version": "3.11.8"
    }
  },
  "nbformat": 4,
  "nbformat_minor": 0
}
